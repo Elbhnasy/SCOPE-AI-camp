{
 "cells": [
  {
   "cell_type": "markdown",
   "id": "04231a7a",
   "metadata": {
    "pycharm": {
     "name": "#%% md\n"
    }
   },
   "source": [
    "# Simple Linear Regression with Python "
   ]
  },
  {
   "cell_type": "markdown",
   "id": "b34555a3",
   "metadata": {
    "pycharm": {
     "name": "#%% md\n"
    }
   },
   "source": [
    "## Setting Up the Working Environment\n",
    "Import the necessary packages for this project with their aliases.\n",
    "\n",
    "  1. Import pandas\n",
    "  2. Import numpy\n",
    "  3. Import matplotlib\n",
    "  4. Import seaborn\n",
    "  \n",
    "use this to render the plots in jupyter\n",
    "```python\n",
    "%matplotlib inline\n",
    "```"
   ]
  },
  {
   "cell_type": "code",
   "execution_count": null,
   "id": "296a8561",
   "metadata": {
    "pycharm": {
     "name": "#%%\n"
    }
   },
   "outputs": [],
   "source": [
    "import pandas as pd\n",
    "import numpy as np\n",
    "import matplotlib.pyplot as plt\n",
    "import seaborn as sns\n",
    "%matplotlib inline"
   ]
  },
  {
   "cell_type": "markdown",
   "id": "7abfaccd",
   "metadata": {
    "pycharm": {
     "name": "#%% md\n"
    }
   },
   "source": [
    "## Loading the Boston Housing Dataset  \n",
    "\n",
    "  - Housing Dataset is the in the datasets module from sklearn\n",
    "     1. Import datasets from sklearn\n",
    "     2. load the boston housing dataset\n",
    "     \n",
    "Syntax:\n",
    "```python\n",
    "# import datasets\n",
    "from sklearn import datasets\n",
    "# load boston housing dataset and call it boston\n",
    "boston = datasets.load_boston()\n",
    "```"
   ]
  },
  {
   "cell_type": "code",
   "execution_count": null,
   "id": "23ec3243",
   "metadata": {
    "pycharm": {
     "name": "#%%\n"
    }
   },
   "outputs": [],
   "source": [
    "# Load the boston dataset \n",
    "from sklearn import datasets"
   ]
  },
  {
   "cell_type": "code",
   "execution_count": null,
   "id": "1ab6e38b",
   "metadata": {
    "pycharm": {
     "name": "#%%\n"
    }
   },
   "outputs": [],
   "source": [
    "# load boston dataset \n",
    "boston = datasets.load_boston()"
   ]
  },
  {
   "cell_type": "markdown",
   "id": "5be3541d",
   "metadata": {
    "pycharm": {
     "name": "#%% md\n"
    }
   },
   "source": [
    "#### Note:\n",
    "\n",
    "We can do the previous two steps in just one step like this\n",
    "```python\n",
    "from sklearn.datasets import load_boston\n",
    "```\n",
    "I am doing it in two steps for the purpose of teaching."
   ]
  },
  {
   "cell_type": "markdown",
   "id": "20268c7d",
   "metadata": {
    "pycharm": {
     "name": "#%% md\n"
    }
   },
   "source": [
    "### Check the dataset\n",
    "\n",
    "Syntax:\n",
    "```python\n",
    "# Use dir() function\n",
    "dir(boston)\n",
    "# Or get the keys using the keys() method\n",
    "print(boston.keys())\n",
    "```"
   ]
  },
  {
   "cell_type": "code",
   "execution_count": null,
   "id": "e7cf9b43",
   "metadata": {
    "pycharm": {
     "name": "#%%\n"
    }
   },
   "outputs": [],
   "source": []
  },
  {
   "cell_type": "markdown",
   "id": "9e706dc8",
   "metadata": {
    "pycharm": {
     "name": "#%% md\n"
    }
   },
   "source": [
    "### Dataset Description\n",
    "\n",
    "Before starting analysing the data, you need to get to know it first, know the variable names and what they. If you don't know what you have, how can you use it?\n",
    "\n",
    "Syntax:\n",
    "```python\n",
    "boston.DESCR\n",
    "# Use print() function to get a nice display\n",
    "print(boston.DESCR)\n",
    "```"
   ]
  },
  {
   "cell_type": "code",
   "execution_count": null,
   "id": "02e23dce",
   "metadata": {
    "pycharm": {
     "name": "#%%\n"
    }
   },
   "outputs": [],
   "source": []
  },
  {
   "cell_type": "markdown",
   "id": "538b1448",
   "metadata": {
    "pycharm": {
     "name": "#%% md\n"
    }
   },
   "source": [
    "### Get the feature names\n",
    "\n",
    "  - Features or attributes are the independent (explanatory) variables.\n",
    "Syntax:\n",
    "```python\n",
    "boston.feature_names\n",
    "```"
   ]
  },
  {
   "cell_type": "code",
   "execution_count": null,
   "id": "3e2f9fd0",
   "metadata": {
    "pycharm": {
     "name": "#%%\n"
    }
   },
   "outputs": [],
   "source": []
  },
  {
   "cell_type": "markdown",
   "id": "b3ecd115",
   "metadata": {
    "pycharm": {
     "name": "#%% md\n"
    }
   },
   "source": [
    "### Get the Data, and check the shape\n",
    "\n",
    "  - Data is the data points of features\n",
    "  \n",
    "Syntax: \n",
    "```python\n",
    "# Checking the data\n",
    "boston.data\n",
    "# Check the first few observations\n",
    "boston.data[:5, : ]\n",
    "# Checking the shape\n",
    "boston.data.shape\n",
    "```"
   ]
  },
  {
   "cell_type": "code",
   "execution_count": null,
   "id": "5533ed4e",
   "metadata": {
    "pycharm": {
     "name": "#%%\n"
    }
   },
   "outputs": [],
   "source": []
  },
  {
   "cell_type": "code",
   "execution_count": null,
   "id": "e13d8693",
   "metadata": {
    "pycharm": {
     "name": "#%%\n"
    }
   },
   "outputs": [],
   "source": []
  },
  {
   "cell_type": "markdown",
   "id": "6c858ab6",
   "metadata": {
    "pycharm": {
     "name": "#%% md\n"
    }
   },
   "source": [
    "### Check the Target Variable, and The shape\n",
    "  - The **target** is the dependent, outcome, response variable.\n",
    "  \n",
    "Syntax:\n",
    "```python\n",
    "# target \n",
    "boston.target\n",
    "# Check the first 10 observations\n",
    "boston.target[:10]\n",
    "# Check the last 10 observations\n",
    "boston.target[-10:]\n",
    "# shape\n",
    "boston.shape\n",
    "```"
   ]
  },
  {
   "cell_type": "code",
   "execution_count": null,
   "id": "f9a56840",
   "metadata": {
    "pycharm": {
     "name": "#%%\n"
    }
   },
   "outputs": [],
   "source": []
  },
  {
   "cell_type": "markdown",
   "id": "91538799",
   "metadata": {
    "pycharm": {
     "name": "#%% md\n"
    }
   },
   "source": [
    "### Check the Type of the Target and the Data\n",
    "\n",
    "Syntax:\n",
    "```python\n",
    "# The Target\n",
    "print(type(boston.target))\n",
    "# The Data\n",
    "print(type(boston.data))\n",
    "```"
   ]
  },
  {
   "cell_type": "code",
   "execution_count": null,
   "id": "405bbec8",
   "metadata": {
    "pycharm": {
     "name": "#%%\n"
    }
   },
   "outputs": [],
   "source": []
  },
  {
   "cell_type": "markdown",
   "id": "c0b01a49",
   "metadata": {
    "pycharm": {
     "name": "#%% md\n"
    }
   },
   "source": [
    "### Renaming The Data and the Target Variable: \n",
    " \n",
    " - In accordance with the common scikit-learn practice, we rename the target (response) variable as __y__ (lowercase), and __X__ (Uppercase) for the features data.  \n",
    "  \n",
    " - After renaming the features data, you need to convert the array of data into a DataFrame object.\n",
    " \n",
    "Syntax:\n",
    "\n",
    "```python\n",
    "# Features data\n",
    "X = boston.data\n",
    "\n",
    "# Converting X into a DataFrame\n",
    "bost_df = pd.DataFrame(X, columns = boston.feature_names)\n",
    "# target variable data\n",
    "y = boston.target\n",
    "```"
   ]
  },
  {
   "cell_type": "code",
   "execution_count": null,
   "id": "0fdae842",
   "metadata": {
    "pycharm": {
     "name": "#%%\n"
    }
   },
   "outputs": [],
   "source": []
  },
  {
   "cell_type": "markdown",
   "id": "360a7e1d",
   "metadata": {
    "pycharm": {
     "name": "#%% md\n"
    }
   },
   "source": [
    "### Prepare the data for estimation\n",
    "\n",
    "  1. We have to build a DataFrame that has the target and all the features to use it for estimation.\n",
    "\n",
    "We already converted the features data into DataFrame, we can create add the target variable and we name it as 'Price'\n",
    "\n",
    "Syntax:\n",
    "```python\n",
    "bost_df['Price'] = boston.target\n",
    "```"
   ]
  },
  {
   "cell_type": "code",
   "execution_count": null,
   "id": "8ad598ec",
   "metadata": {
    "pycharm": {
     "name": "#%%\n"
    }
   },
   "outputs": [],
   "source": []
  },
  {
   "cell_type": "markdown",
   "id": "adef1794",
   "metadata": {
    "pycharm": {
     "name": "#%% md\n"
    }
   },
   "source": [
    "___\n",
    "We are ready to start our analysis."
   ]
  },
  {
   "cell_type": "markdown",
   "id": "6c41bb0d",
   "metadata": {
    "pycharm": {
     "name": "#%% md\n"
    }
   },
   "source": [
    "## Exploratory Data Analysis\n",
    "\n",
    "- EDA is a crucial step in any machine learning project.\n",
    "\n",
    "### Check the Info about the Dataset\n",
    "\n",
    "Syntax:\n",
    "```python\n",
    "bost_df.info()\n",
    "```"
   ]
  },
  {
   "cell_type": "markdown",
   "id": "f249b123",
   "metadata": {
    "pycharm": {
     "name": "#%% md\n"
    }
   },
   "source": []
  },
  {
   "cell_type": "markdown",
   "id": "6170c0c5",
   "metadata": {
    "pycharm": {
     "name": "#%% md\n"
    }
   },
   "source": [
    "### Print few Observations (first and last)\n",
    "\n",
    "Syntax:\n",
    "```python \n",
    "# First obs\n",
    "bost_df.head()\n",
    "# Last obs\n",
    "bost_df.tail()\n",
    "```"
   ]
  },
  {
   "cell_type": "code",
   "execution_count": null,
   "id": "3dc43821",
   "metadata": {
    "pycharm": {
     "name": "#%%\n"
    }
   },
   "outputs": [],
   "source": []
  },
  {
   "cell_type": "markdown",
   "id": "71a24e86",
   "metadata": {
    "pycharm": {
     "name": "#%% md\n"
    }
   },
   "source": [
    "### Data Summary Statistics\n",
    "\n",
    "- Run summary statistics for the data\n",
    "\n",
    "Syntax:\n",
    "```python\n",
    "bost_df.describe()\n",
    "```"
   ]
  },
  {
   "cell_type": "code",
   "execution_count": null,
   "id": "0ad0939c",
   "metadata": {
    "pycharm": {
     "name": "#%%\n"
    }
   },
   "outputs": [],
   "source": []
  },
  {
   "cell_type": "markdown",
   "id": "375ea458",
   "metadata": {
    "pycharm": {
     "name": "#%% md\n"
    }
   },
   "source": [
    "### Visualization of the target variable\n",
    "\n",
    "Syntax:\n",
    "```python\n",
    "# Histogram of prices (this is the target of our dataset)\n",
    "plt.hist(boston.target,bins=50)\n",
    "\n",
    "#label\n",
    "plt.xlabel('Price in $1000s')\n",
    "plt.ylabel('Number of houses')\n",
    "```"
   ]
  },
  {
   "cell_type": "code",
   "execution_count": null,
   "id": "0fc2d27d",
   "metadata": {
    "pycharm": {
     "name": "#%%\n"
    }
   },
   "outputs": [],
   "source": [
    "# Setting the figure size \n",
    "sns.set(rc={'figure.figsize':(12,8)})"
   ]
  },
  {
   "cell_type": "code",
   "execution_count": null,
   "id": "24782935",
   "metadata": {
    "pycharm": {
     "name": "#%%\n"
    }
   },
   "outputs": [],
   "source": [
    "# Plot the histogram\n",
    "plt.hist(boston.target,bins=50)\n",
    "\n",
    "# label the axes \n",
    "plt.xlabel('Price in $1000s')\n",
    "plt.ylabel('Number of houses')"
   ]
  },
  {
   "cell_type": "markdown",
   "id": "52824503",
   "metadata": {
    "pycharm": {
     "name": "#%% md\n"
    }
   },
   "source": [
    "### Feature Selection\n",
    "\n",
    "  - We will run the correlation to check what variables are highly correlated with the target variable. Then we plot the correlation using heatmap function from seaborn.\n",
    "  \n",
    "Syntax:\n",
    "```python\n",
    "sns.heatmap(bost_df.corr())\n",
    "```"
   ]
  },
  {
   "cell_type": "code",
   "execution_count": null,
   "id": "99b06064",
   "metadata": {
    "pycharm": {
     "name": "#%%\n"
    }
   },
   "outputs": [],
   "source": [
    "# Plotting the heatmap\n",
    "sns.heatmap(bost_df.corr(), square=True, cmap='RdYlGn')"
   ]
  },
  {
   "cell_type": "markdown",
   "id": "07206243",
   "metadata": {
    "pycharm": {
     "name": "#%% md\n"
    }
   },
   "source": [
    "### Plotting highley Correlated Features with the Target\n",
    "\n",
    "  - We see from the previous plot that the __RM (average number of rooms)__ is positively correlated with price. Therefore, we will plot price against RM.\n",
    "  \n",
    "```python \n",
    "plt.scatter(x = bost_df['RM'], y = bost_df['Price']) \n",
    "```"
   ]
  },
  {
   "cell_type": "code",
   "execution_count": null,
   "id": "123b00cf",
   "metadata": {
    "pycharm": {
     "name": "#%%\n"
    }
   },
   "outputs": [],
   "source": []
  },
  {
   "cell_type": "markdown",
   "id": "041ceebb",
   "metadata": {
    "pycharm": {
     "name": "#%% md\n"
    }
   },
   "source": [
    "It is better to have a fitted line plotted. We can do that by using __lmplot()__ from seaborn\n",
    "\n",
    "Syntax:\n",
    "```python\n",
    "sns.lmplot(x= 'RM', y = 'Price', data = bost_df)\n",
    "```"
   ]
  },
  {
   "cell_type": "code",
   "execution_count": null,
   "id": "16caae69",
   "metadata": {
    "pycharm": {
     "name": "#%%\n"
    }
   },
   "outputs": [],
   "source": []
  },
  {
   "cell_type": "markdown",
   "id": "0113895b",
   "metadata": {
    "pycharm": {
     "name": "#%% md\n"
    }
   },
   "source": [
    "### Use lmplot to plot LSTAT \n",
    "```python\n",
    "sns.lmplot(x= 'LSTAT', y = 'Price', data = bost_df)\n",
    "```"
   ]
  },
  {
   "cell_type": "code",
   "execution_count": null,
   "id": "c3e22563",
   "metadata": {
    "pycharm": {
     "name": "#%%\n"
    }
   },
   "outputs": [],
   "source": []
  },
  {
   "cell_type": "markdown",
   "id": "385c1ce6",
   "metadata": {
    "pycharm": {
     "name": "#%% md\n"
    }
   },
   "source": [
    "## Simple Linear Regression with SK-Learn\n",
    "\n",
    "First, we run a simple linear regression to get familiar with the technique, then we move forward to advanced modelling. \n",
    "\n",
    "- Import linear_model from sklearn\n",
    "\n",
    "- Run a simple linear regression\n",
    "\n",
    "  $Price=\\beta_{0} + \\beta_{1} RM + error$\n",
    "  \n",
    "- Read the results\n",
    "\n",
    "Syntax 01:\n",
    "```python\n",
    "# Import linear_model\n",
    "from sklearn import linear_model\n",
    "\n",
    "# Instantiate LinearRegression\n",
    "simple_reg = linear_model.LinearRegression()\n",
    "\n",
    "# Implement Linear Regression using fit()\n",
    "simple_reg.fit(target, feature)\n",
    "```\n",
    "\n",
    "Syntax 01:\n",
    "```python\n",
    "from sklearn.linear_model import LinearRegression\n",
    "# Create LR object\n",
    "lm = LinearRegression()\n",
    "```"
   ]
  },
  {
   "cell_type": "code",
   "execution_count": null,
   "id": "d2362d0c",
   "metadata": {
    "pycharm": {
     "name": "#%%\n"
    }
   },
   "outputs": [],
   "source": [
    "# Import linear_model\n"
   ]
  },
  {
   "cell_type": "code",
   "execution_count": null,
   "id": "4df6027d",
   "metadata": {
    "pycharm": {
     "name": "#%%\n"
    }
   },
   "outputs": [],
   "source": [
    "# Create a LinearRegression Object\n"
   ]
  },
  {
   "cell_type": "markdown",
   "id": "d8b867a8",
   "metadata": {
    "pycharm": {
     "name": "#%% md\n"
    }
   },
   "source": [
    "### Instantiation LinearRegression Object\n",
    "\n",
    "In order to use LinearRegression() function:\n",
    "\n",
    "  1. Instantiate (create a new object)\n",
    "  2. Use the object to fit the model\n",
    "  3. Use the object to predict new data\n",
    "  4. Use the object to score the prediction; for example, lm.score() returns the coefficient of determination (R^2).\n",
    "  \n",
    "Syntax:\n",
    "```python\n",
    "# Create New Obj\n",
    "lm = linearRegression()\n",
    "# Fit Linear Regression\n",
    "lm.fit()\n",
    "# Predict new data\n",
    "lm.predict()\n",
    "# Score Prediction\n",
    "lm.score()\n",
    "```"
   ]
  },
  {
   "cell_type": "code",
   "execution_count": null,
   "id": "efbb6c55",
   "metadata": {
    "pycharm": {
     "name": "#%%\n"
    }
   },
   "outputs": [],
   "source": []
  },
  {
   "cell_type": "markdown",
   "id": "d7420b44",
   "metadata": {
    "pycharm": {
     "name": "#%% md\n"
    }
   },
   "source": [
    "### Note: \n",
    "\n",
    "Running Linear Regression with Sklearn requires object to be 2D-arrays. Thus, some steps are required, such as converting variables into  2D-arrays. There is a shortcut to do that by using __reshape(-1, 1)__ function\n",
    "\n",
    "Syntax:\n",
    "```python\n",
    "one-D-array.reshape(-1, 1)\n",
    "# Or use this syntax\n",
    "np.array(oneD_obj).reshape(-1, 1)\n",
    "```"
   ]
  },
  {
   "cell_type": "code",
   "execution_count": null,
   "id": "bae223c5",
   "metadata": {
    "pycharm": {
     "name": "#%%\n"
    }
   },
   "outputs": [],
   "source": [
    "X = bost_df['RM']\n",
    "y = bost_df['Price']"
   ]
  },
  {
   "cell_type": "code",
   "execution_count": null,
   "id": "5e581a2b",
   "metadata": {
    "pycharm": {
     "name": "#%%\n"
    }
   },
   "outputs": [],
   "source": [
    "# Print the dimensions of y and X before reshaping\n",
    "print(\"Dimensions of y before reshaping: \", )\n",
    "print(\"Dimensions of X before reshaping: \", )"
   ]
  },
  {
   "cell_type": "code",
   "execution_count": null,
   "id": "6786eb68",
   "metadata": {
    "pycharm": {
     "name": "#%%\n"
    }
   },
   "outputs": [],
   "source": [
    "# Reshape X and y\n",
    "# y_reshaped \n",
    "# X_reshaped "
   ]
  },
  {
   "cell_type": "code",
   "execution_count": null,
   "id": "16d36f8f",
   "metadata": {
    "pycharm": {
     "name": "#%%\n"
    }
   },
   "outputs": [],
   "source": [
    "# Print the dimensions of y_reshaped and X_reshaped\n",
    "print(\"Dimensions of y after reshaping: \")\n",
    "print(\"Dimensions of X after reshaping: \")"
   ]
  },
  {
   "cell_type": "markdown",
   "id": "783463c8",
   "metadata": {
    "pycharm": {
     "name": "#%% md\n"
    }
   },
   "source": [
    "### Fitting Linear Regression\n",
    " \n",
    "  - Use `fit()` function to fit the model\n",
    "Syntax:\n",
    "```python\n",
    "lm.fit(x, y)\n",
    "```"
   ]
  },
  {
   "cell_type": "code",
   "execution_count": null,
   "id": "ae4279e1",
   "metadata": {
    "pycharm": {
     "name": "#%%\n"
    }
   },
   "outputs": [],
   "source": [
    "# Fit linear model \n"
   ]
  },
  {
   "cell_type": "markdown",
   "id": "53ff5020",
   "metadata": {
    "pycharm": {
     "name": "#%% md\n"
    }
   },
   "source": [
    "### Check the lm object\n",
    "\n",
    "You can use `dir()` function to see the attributes of lm object.\n",
    "\n",
    "Syntax:\n",
    "```python \n",
    "print([att for att in dir(lm) if '_' and '__' not in att])\n",
    "```"
   ]
  },
  {
   "cell_type": "code",
   "execution_count": null,
   "id": "1bef7de7",
   "metadata": {
    "pycharm": {
     "name": "#%%\n"
    }
   },
   "outputs": [],
   "source": []
  },
  {
   "cell_type": "markdown",
   "id": "f803e499",
   "metadata": {
    "pycharm": {
     "name": "#%% md\n"
    }
   },
   "source": [
    "### Check the Coefficients\n",
    "\n",
    "  1. The intercept can be checked using `lm.intercept_`\n",
    "  2. The Other coefficients are avalable in `lm.coef_`\n",
    "  \n",
    "Syntax:\n",
    "```python\n",
    "# Intercept\n",
    "print('The intercept of simple linear regression is', lm.intercept_)\n",
    "# Coefficients\n",
    "print('The intercept of simple linear regression is', lm.coef_)\n",
    "```"
   ]
  },
  {
   "cell_type": "code",
   "execution_count": null,
   "id": "be69c00f",
   "metadata": {
    "pycharm": {
     "name": "#%%\n"
    }
   },
   "outputs": [],
   "source": []
  },
  {
   "cell_type": "code",
   "execution_count": null,
   "id": "84b32fe4",
   "metadata": {
    "pycharm": {
     "name": "#%%\n"
    }
   },
   "outputs": [],
   "source": []
  },
  {
   "cell_type": "markdown",
   "id": "46240b98",
   "metadata": {
    "pycharm": {
     "name": "#%% md\n"
    }
   },
   "source": [
    "### Saving the results into a table"
   ]
  },
  {
   "cell_type": "code",
   "execution_count": null,
   "id": "c45f513d",
   "metadata": {
    "pycharm": {
     "name": "#%%\n"
    }
   },
   "outputs": [],
   "source": [
    "coef_df = pd.DataFrame({'Intercept': lm.intercept_,\n",
    "                       'Coef': lm.coef_.flatten()})\n",
    "coef_df"
   ]
  },
  {
   "cell_type": "markdown",
   "id": "efe865a0",
   "metadata": {
    "pycharm": {
     "name": "#%% md\n"
    }
   },
   "source": [
    "### The Goodness-of-Fit\n",
    "\n",
    "1. One of the metrics to check how well our model fits the data is the coefficient of determination of $R^{2}$. Which can be retrieved using `lm.score()` function.\n",
    "\n",
    "Syntax:\n",
    "```python\n",
    "lm.score(X, y)\n",
    "# Or use print \n",
    "print(\"The R^2 of model is: {:0.3f}\".format(lm.score(X_reshaped, y_reshaped)))\n",
    "```"
   ]
  },
  {
   "cell_type": "code",
   "execution_count": null,
   "id": "e8e42b2d",
   "metadata": {
    "pycharm": {
     "name": "#%%\n"
    }
   },
   "outputs": [],
   "source": []
  },
  {
   "cell_type": "markdown",
   "id": "cc998adb",
   "metadata": {
    "pycharm": {
     "name": "#%% md\n"
    }
   },
   "source": [
    "### Prediction\n",
    "\n",
    "Now we can use the for prediction. However, we don't new data, thus we will predict on the same data used to build the model. We will address this point later in detail. Prediction is done using `lm.predict()` function:\n",
    "\n",
    "Syntax:\n",
    "```python\n",
    "y_pred = lm.predict(new_data)\n",
    "```"
   ]
  },
  {
   "cell_type": "code",
   "execution_count": null,
   "id": "56d8a0f8",
   "metadata": {
    "pycharm": {
     "name": "#%%\n"
    }
   },
   "outputs": [],
   "source": []
  },
  {
   "cell_type": "markdown",
   "id": "91fdf3d8",
   "metadata": {
    "pycharm": {
     "name": "#%% md\n"
    }
   },
   "source": [
    "### Ploting The results"
   ]
  },
  {
   "cell_type": "code",
   "execution_count": null,
   "id": "7ba5985d",
   "metadata": {
    "pycharm": {
     "name": "#%%\n"
    }
   },
   "outputs": [],
   "source": [
    "plt.scatter(X, y, color='blue', alpha=0.5)\n",
    "plt.plot(X_reshaped, y_pred, color='red', linewidth=3)\n",
    "plt.show()"
   ]
  },
  {
   "cell_type": "markdown",
   "metadata": {
    "collapsed": false,
    "pycharm": {
     "name": "#%% md\n"
    }
   },
   "source": [
    "# Try with the same DataSet and Mention The best model\n",
    "### 1.Support Vector Regression Model\n",
    "### 2.Decision Tree Regression Model\n",
    "### 3.Random Forest Regression Model\n"
   ]
  },
  {
   "cell_type": "code",
   "execution_count": null,
   "metadata": {
    "collapsed": false,
    "pycharm": {
     "name": "#%%\n"
    }
   },
   "outputs": [],
   "source": []
  }
 ],
 "metadata": {
  "kernelspec": {
   "display_name": "Python 3",
   "language": "python",
   "name": "python3"
  },
  "language_info": {
   "codemirror_mode": {
    "name": "ipython",
    "version": 3
   },
   "file_extension": ".py",
   "mimetype": "text/x-python",
   "name": "python",
   "nbconvert_exporter": "python",
   "pygments_lexer": "ipython3",
   "version": "3.8.2"
  }
 },
 "nbformat": 4,
 "nbformat_minor": 5
}
